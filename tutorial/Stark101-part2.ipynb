{
 "cells": [
  {
   "cell_type": "markdown",
   "metadata": {},
   "source": [
    "*Copyright 2019 StarkWare Industries Ltd.<br> Licensed under the Apache License, Version 2.0 (the \"License\"). You may not use this file except in compliance with the License. You may obtain a copy of the License at https://www.starkware.co/open-source-license/ <br> Unless required by applicable law or agreed to in writing, software distributed under the License is distributed on an \"AS IS\" BASIS, WITHOUT WARRANTIES OR CONDITIONS OF ANY KIND, either express or implied. See the License for the specific language governing permissions and limitations under the License.*"
   ]
  },
  {
   "cell_type": "markdown",
   "metadata": {},
   "source": [
    "# Part 2: 约束条件\n",
    "- [Video Lecture (youtube)](https://www.youtube.com/watch?v=fg3mFPXEYQY)\n",
    "- [Slides (PDF)](https://starkware.co/wp-content/uploads/2021/12/STARK101-Part2.pdf)\n",
    "\n",
    "在这个部分，我吗将会创建一组有关于轨迹`a`的约束条件。<br>这些约束条件将会是轨迹单元格上的表达式，当且仅当轨迹代表有效的FibonacciSq计算时，这些表达式才会是多项式（而非[有理函数](https://en.wikipedia.org/wiki/Rational_function)）。\n",
    "<br>\n",
    "我们将通过以下三个步骤来创建这些约束条件：\n",
    "1. 首先明确我们关心的约束条件（**FibonacciSq约束**）。\n",
    "2. 将FibonacciSq约束条件转换为**多项式约束**。\n",
    "3. 将多项式约束条件转换为**有理函数**，这些有理函数当且仅当原始约束成立时才表示多项式。"
   ]
  },
  {
   "cell_type": "markdown",
   "metadata": {},
   "source": [
    "## Step 1 - FibonacciSq 约束\n",
    "为了使 `a` 成为正确的 FibonacciSq 轨迹序列，需要满足以下条件:\n",
    "\n",
    "1. 第一个元素必须为1，即 $a[0] = 1$。\n",
    "2. 最后一个元素必须为2338775057，即 $a[1022] = 2338775057$。\n",
    "3. 必须满足 FibonacciSq 规则，即对于 $i<1021$，$a[i+2]=a[i+1]^2+a[i]^2$。"
   ]
  },
  {
   "cell_type": "markdown",
   "metadata": {},
   "source": [
    "## Step 2 - 多项式约束\n",
    "回顾一下，`f` 是一个在轨迹域上的多项式，它在 $G \\setminus \\{g^{1023}\\}$ 上计算结果为 `a`，其中 $G=\\{g^i : 0\\leq i\\leq 1023\\}$ 是 $g$ 生成的 \"小\" 群。<br>\n",
    "\n",
    "We now rewrite the above three constraints in a form of polynomial constraints over `f`:\n",
    "我们现在将上述三个约束条件转换为 `f` 的多项式约束条件:\n",
    "1. $a[0] = 1$ 将会被转换成多项式 $f(x) - 1$，该多项式在 $x = g^0$ 时计算结果为0（注意 $g^0$ 等于 1）。\n",
    "2. $a[1022] = 2338775057$ 将会被转换成多项式 $f(x) - 2338775057$，该多项式在 $x = g^{1022}$ 时计算结果为0。\n",
    "3. $a[i+2]=a[i+1]^2+a[i]^2$ for every $i<1021$ 将会被转换成多项式 $f(g^2 \\cdot x) - (f(g \\cdot x))^2 - (f(x))^2$，该多项式在 $x \\in G \\backslash \\{g^{1021}, g^{1022}, g^{1023}\\}$ 时计算结果为0。\n"
   ]
  },
  {
   "cell_type": "markdown",
   "metadata": {},
   "source": [
    "### 准备一下\n",
    "在开始前，让我们运行一下下面的代码，以便重新构建我们在Part1中编写的代码的上下文环境。请注意，这可能需要30秒，因为它会重新运行多项式插值。"
   ]
  },
  {
   "cell_type": "code",
   "execution_count": 7,
   "metadata": {},
   "outputs": [
    {
     "name": "stdout",
     "output_type": "stream",
     "text": [
      "Success!\n"
     ]
    }
   ],
   "source": [
    "from channel import Channel\n",
    "from field import FieldElement\n",
    "from merkle import MerkleTree\n",
    "from polynomial import interpolate_poly, X, prod\n",
    "from tutorial_sessions import part1\n",
    "\n",
    "a, g, G, h, H, eval_domain, f, f_eval, f_merkle, channel = part1()\n",
    "print('Success!')"
   ]
  },
  {
   "cell_type": "markdown",
   "metadata": {},
   "source": [
    "你将获得三个约束条件，每个都表示为两个多项式相除的形式，并确保余数为零多项式（注：$ f(x) = 0$）。\n",
    "<br><br>\n",
    "（注：比如第一个约束 $ f(x) - 1 $，将会表示为 $ f(x) - 1 / (x - 1) $ 此时如果 $ x = 1 $，则结果为0，符合余数为0）"
   ]
  },
  {
   "cell_type": "markdown",
   "metadata": {},
   "source": [
    "## Step 3 - 有理函数 (实际上就是多项式)\n",
    "\n",
    "上面提到的每一个约束条件，都表示为一个多项式 $u(x)$。这个多项式在群 $G$ 中的某些元素上计算结果应该等于0。也就是说，对于 $x_0, \\ldots, x_k \\in G$，我们认为\n",
    "\n",
    "$$u(x_0) = \\ldots = u(x_k) = 0$$\n",
    "\n",
    "（注意，对于前两个约束，$k=0$ 因为它们只涉及一个点，对于第三个约束，$k=1021$）\n",
    "\n",
    "这等同于说 $u(x)$ 作为多项式可以被所有的 ${(x-x_i)}_{i=0}^k$ 整除，或者说，可以被下面的式子整除：\n",
    "\n",
    "$$\\prod_{i=0}^k (x-x_i)$$\n",
    "\n",
    "因此，上述三个约束条件每一个都可以下称如下形式的有理函数。\n",
    "\n",
    "$$\\frac{u(x)}{\\prod_{i=0}^k (x-x_i)}$$\n",
    "\n",
    "其中 $u(x)$ 和 $\\{x_i\\}_{i=0}^k$ 对应于各个约束。接下来，我们将构造这三个有理函数，并证明它们是完整的多项式，没有余数。"
   ]
  },
  {
   "cell_type": "markdown",
   "metadata": {},
   "source": [
    "## 第一个约束:\n",
    "\n",
    "在第一个约束条件中，我们关注的是 $f(x) - 1$ 和 $\\{x_i\\} = \\{1\\}$。\n",
    "\n",
    "我们将会构建一个**多项式** $p_0(x)=\\frac{f(x) - 1}{x - 1}$，确保 $f(x) - 1$ 可以被 $(x-1)$ 整除。"
   ]
  },
  {
   "cell_type": "code",
   "execution_count": 8,
   "metadata": {},
   "outputs": [],
   "source": [
    "# 第一个约束。构建分子0和分母0\n",
    "numer0 = 'YOUR_CODE_HERE'\n",
    "denom0 = 'YOUR_CODE_HERE'"
   ]
  },
  {
   "cell_type": "markdown",
   "metadata": {},
   "source": [
    "答案:"
   ]
  },
  {
   "cell_type": "code",
   "execution_count": 9,
   "metadata": {
    "jupyter": {
     "source_hidden": true
    }
   },
   "outputs": [],
   "source": [
    "numer0 = f - 1\n",
    "denom0 = X - 1"
   ]
  },
  {
   "cell_type": "markdown",
   "metadata": {},
   "source": [
    "请验证 $f(x) - 1$ 在 $x=1$ 时计算结果为0, 方法是确认这个多项式在 $x=1$ 时计算结果为0:"
   ]
  },
  {
   "cell_type": "code",
   "execution_count": 10,
   "metadata": {},
   "outputs": [
    {
     "data": {
      "text/plain": [
       "'YOUR_CODE_HERE'"
      ]
     },
     "execution_count": 10,
     "metadata": {},
     "output_type": "execute_result"
    }
   ],
   "source": [
    "'YOUR_CODE_HERE'"
   ]
  },
  {
   "cell_type": "markdown",
   "metadata": {},
   "source": [
    "$f(x) - 1$ 在 $x=1$ 时计算结果为0，这意味着 $f(x) - 1$ 可以被 $(x-1)$ 整除。\n",
    "\n",
    "运行下面代码段，确认 `numer0` 对 `denom0` 取余数为 $0$，因此这个除法确实得到了一个多项式:"
   ]
  },
  {
   "cell_type": "code",
   "execution_count": 11,
   "metadata": {
    "scrolled": true
   },
   "outputs": [
    {
     "data": {
      "text/latex": [
       "$0$"
      ],
      "text/plain": [
       "<polynomial.Polynomial at 0x106e09af0>"
      ]
     },
     "execution_count": 11,
     "metadata": {},
     "output_type": "execute_result"
    }
   ],
   "source": [
    "numer0 % denom0"
   ]
  },
  {
   "cell_type": "markdown",
   "metadata": {},
   "source": [
    "运行下面这段代码构建一个`p0`,这个多项式表示了第一个约束"
   ]
  },
  {
   "cell_type": "code",
   "execution_count": 12,
   "metadata": {},
   "outputs": [],
   "source": [
    "p0 = numer0 / denom0"
   ]
  },
  {
   "cell_type": "markdown",
   "metadata": {},
   "source": [
    "运行测试:"
   ]
  },
  {
   "cell_type": "code",
   "execution_count": 13,
   "metadata": {},
   "outputs": [
    {
     "name": "stdout",
     "output_type": "stream",
     "text": [
      "Success!\n"
     ]
    }
   ],
   "source": [
    "assert p0(2718) == 2509888982\n",
    "print('Success!')"
   ]
  },
  {
   "cell_type": "markdown",
   "metadata": {},
   "source": [
    "## 第二个约束\n",
    "同样的，构建第二个约束的多项式`p1`，$p_1(x)= \\frac{f(x) - 2338775057}{x - g^{1022}}$<br>"
   ]
  },
  {
   "cell_type": "code",
   "execution_count": 14,
   "metadata": {},
   "outputs": [],
   "source": [
    "# 第二个约束.\n",
    "p1 = 'YOUR_CODE_HERE'"
   ]
  },
  {
   "cell_type": "markdown",
   "metadata": {},
   "source": [
    "答案:"
   ]
  },
  {
   "cell_type": "code",
   "execution_count": 15,
   "metadata": {
    "jupyter": {
     "source_hidden": true
    }
   },
   "outputs": [],
   "source": [
    "numer1 = f - 2338775057\n",
    "denom1 = X - g**1022\n",
    "p1 = numer1 / denom1"
   ]
  },
  {
   "cell_type": "markdown",
   "metadata": {},
   "source": [
    "运行测试:"
   ]
  },
  {
   "cell_type": "code",
   "execution_count": 16,
   "metadata": {},
   "outputs": [
    {
     "name": "stdout",
     "output_type": "stream",
     "text": [
      "Success!\n"
     ]
    }
   ],
   "source": [
    "assert p1(5772) == 232961446\n",
    "print('Success!')"
   ]
  },
  {
   "cell_type": "markdown",
   "metadata": {},
   "source": [
    "## 第三个约束 - 简洁性\n",
    "\n",
    "最后一个约束条件的有理函数稍微有一点复杂<br>\n",
    "\n",
    "$$p_2(x) = \\frac{f(g^2 \\cdot x) - (f(g \\cdot x))^2 - (f(x))^2}{\\prod\\limits_{i=0}^{1020} (x-g^i)}$$\n",
    "\n",
    "我们重写一下这个分母，让他变得跟容易理解计算：<br>\n",
    "\n",
    "$$\\frac{f(g^2 \\cdot x) - (f(g \\cdot x))^2 - (f(x))^2}{\\frac{x^{1024} - 1}{(x-g^{1021})(x-g^{1022})(x-g^{1023})}}$$ \n",
    "\n",
    "这是基于以下等式\n",
    "\n",
    "$$\\prod\\limits_{i=0}^{1023} (x-g^i) = x^{1024} - 1$$\n",
    "\n",
    "Convince yourself of this equality using the function `prod` that takes a list and computes its product:\n",
    "\n",
    "请使用函数`prod`(该函数接受一个列表并计算其乘积)来证明这个等式。"
   ]
  },
  {
   "cell_type": "code",
   "execution_count": 17,
   "metadata": {},
   "outputs": [
    {
     "data": {
      "text/plain": [
       "'YOUR_CODE_HERE'"
      ]
     },
     "execution_count": 17,
     "metadata": {},
     "output_type": "execute_result"
    }
   ],
   "source": [
    "# Construct a list `lst` of the linear terms (x-g**i):\n",
    "# 构建一个列表`lst`，线性生成元素，(x-g**i)\n",
    "lst = ['YOUR_CODE_HERE']\n",
    "# 计算`lst`的乘积，并验证它确实是简洁多项式 x**1024 - 1\n",
    "prod(lst)"
   ]
  },
  {
   "cell_type": "markdown",
   "metadata": {},
   "source": [
    "答案:"
   ]
  },
  {
   "cell_type": "code",
   "execution_count": 18,
   "metadata": {
    "jupyter": {
     "source_hidden": true
    }
   },
   "outputs": [
    {
     "data": {
      "text/latex": [
       "$ -1 + x^{1024} $"
      ],
      "text/plain": [
       "<polynomial.Polynomial at 0x1071943e0>"
      ]
     },
     "execution_count": 18,
     "metadata": {},
     "output_type": "execute_result"
    }
   ],
   "source": [
    "lst = [(X - g**i) for i in range(1024)]\n",
    "prod(lst)"
   ]
  },
  {
   "cell_type": "markdown",
   "metadata": {},
   "source": [
    "要了解更多信息，请查看我们题为 [算数化 II](https://medium.com/starkware/arithmetization-ii-403c3b3f4355) 的博客文章。\n",
    "\n",
    "让我们暂停一下，看一个简单的例子来了解多项式是如何组合的。之后我们将生成第三个约束条件。"
   ]
  },
  {
   "cell_type": "markdown",
   "metadata": {},
   "source": [
    "### 组合多项式 (一个小插曲)\n",
    "\n",
    "这里我们要创建两个多项式 $q(x) = 2x^2 +1$, $r(x) = x - 3$:"
   ]
  },
  {
   "cell_type": "code",
   "execution_count": 19,
   "metadata": {},
   "outputs": [],
   "source": [
    "q = 2*X ** 2 + 1\n",
    "r = X - 3"
   ]
  },
  {
   "cell_type": "markdown",
   "metadata": {},
   "source": [
    "组合 $q$ 和 $r$ 得到一个新的多项式:<br>\n",
    "$q(r(x)) = 2(x-3)^2 + 1 = 2x^2-12x+19$\n",
    "<br>\n",
    "\n",
    "运行以下代码，创建一个新的多项式 `cmp`，通过组合 `q` 和 `r` 创建，并验证 `cmp` 确实是 `q` 和 `r` 的组合:"
   ]
  },
  {
   "cell_type": "code",
   "execution_count": 20,
   "metadata": {},
   "outputs": [
    {
     "data": {
      "text/latex": [
       "$ 19 - 12x + 2x^{2} $"
      ],
      "text/plain": [
       "<polynomial.Polynomial at 0x10e064d70>"
      ]
     },
     "execution_count": 20,
     "metadata": {},
     "output_type": "execute_result"
    }
   ],
   "source": [
    "cmp = q(r)\n",
    "cmp"
   ]
  },
  {
   "cell_type": "markdown",
   "metadata": {},
   "source": [
    "### 回到多项式约束\n",
    "按照构建 `p0` 和 `p1` 的类似方法，使用多项式组合来构建第三个约束 `p2`。在构建过程中，验证 $g^{1020}$ 是 **分子** 的一个根，而 $g^{1021}$ 不是。"
   ]
  },
  {
   "cell_type": "code",
   "execution_count": 21,
   "metadata": {},
   "outputs": [],
   "source": [
    "p2 = 'YOUR_CODE_HERE'"
   ]
  },
  {
   "cell_type": "markdown",
   "metadata": {},
   "source": [
    "答案:"
   ]
  },
  {
   "cell_type": "code",
   "execution_count": 22,
   "metadata": {
    "jupyter": {
     "source_hidden": true
    }
   },
   "outputs": [
    {
     "name": "stdout",
     "output_type": "stream",
     "text": [
      "Numerator at g^1020 is 0\n",
      "Numerator at g^1021 is 230576507\n"
     ]
    }
   ],
   "source": [
    "numer2 = f(g**2 * X) - f(g * X)**2 - f**2\n",
    "print(\"Numerator at g^1020 is\", numer2(g**1020))\n",
    "print(\"Numerator at g^1021 is\", numer2(g**1021))\n",
    "denom2 = (X**1024 - 1) / ((X - g**1021) * (X - g**1022) * (X - g**1023))\n",
    "\n",
    "p2 = numer2 / denom2"
   ]
  },
  {
   "cell_type": "markdown",
   "metadata": {},
   "source": [
    "运行测试:"
   ]
  },
  {
   "cell_type": "code",
   "execution_count": 23,
   "metadata": {
    "scrolled": true
   },
   "outputs": [
    {
     "name": "stdout",
     "output_type": "stream",
     "text": [
      "Success!\n"
     ]
    }
   ],
   "source": [
    "assert p2.degree() == 1023, f'The degree of the third constraint is {p2.degree()} when it should be 1023.'\n",
    "assert p2(31415) == 2090051528\n",
    "print('Success!')"
   ]
  },
  {
   "cell_type": "markdown",
   "metadata": {},
   "source": [
    "运行以下代码，观察约束多项式 `p0`、`p1` 和 `p2` 的度数，所有小于 $1024$。这将对下一步至关重要。"
   ]
  },
  {
   "cell_type": "code",
   "execution_count": 24,
   "metadata": {},
   "outputs": [
    {
     "name": "stdout",
     "output_type": "stream",
     "text": [
      "deg p0 = 1021\n",
      "deg p1 = 1021\n",
      "deg p2 = 1023\n"
     ]
    }
   ],
   "source": [
    "print('deg p0 =', p0.degree())\n",
    "print('deg p1 =', p1.degree())\n",
    "print('deg p2 =', p2.degree())"
   ]
  },
  {
   "cell_type": "markdown",
   "metadata": {},
   "source": [
    "### Step 4 - 组合多项式\n",
    "回顾一下，我们正在将验证是三个多项式约束有效性的问题，转换成检查有理函数 $p_0, p_1, p_2$ 是否都是多项式的问题。<br>\n",
    "\n",
    "我们协议使用一种称为[FRI](https://eccc.weizmann.ac.il/report/2017/134/)的算法来完成这个任务，这将会在下一部分讨论。<br>\n",
    "为了使证明简洁（短小），我们更倾向于只处理一个有理函数而不是三个。为此，我们取 $p_0, p_1, p_2$ 的随机线性组合，称为**组合多项式**（简称CP）。\n",
    "\n",
    "$$CP(x) = \\alpha_0 \\cdot p_0(x) + \\alpha_1 \\cdot p_1(x) + \\alpha_2 \\cdot  p_2(x)$$\n",
    "\n",
    "其中 $\\alpha_0, \\alpha_1, \\alpha_2 $ 是从验证者获得的随机域元素，或者在我们的例子中，从是从通道获得。\n",
    "\n",
    "证明（有理函数）$CP$ 是多项式，可以高概率保证 $p_0$, $p_1$, $p_2$ 都是多项式。\n",
    "\n",
    "在下一部分，你将生成一个证明等价事实的证明。但首先，让我们使用 `Channel.receive_random_field_element` 来获取 $\\alpha_i$ 并创建 `CP`:"
   ]
  },
  {
   "cell_type": "code",
   "execution_count": 25,
   "metadata": {},
   "outputs": [],
   "source": [
    "# 注意，alpha0, alpha1, alpha2 必须按顺序从通道中获取。\n",
    "def get_CP(channel):\n",
    "    return 'YOUR_CODE_HERE'"
   ]
  },
  {
   "cell_type": "markdown",
   "metadata": {},
   "source": [
    "答案:"
   ]
  },
  {
   "cell_type": "code",
   "execution_count": 26,
   "metadata": {
    "jupyter": {
     "source_hidden": true
    }
   },
   "outputs": [],
   "source": [
    "def get_CP(channel):\n",
    "    alpha0 = channel.receive_random_field_element()\n",
    "    alpha1 = channel.receive_random_field_element()\n",
    "    alpha2 = channel.receive_random_field_element()\n",
    "    return alpha0*p0 + alpha1*p1 + alpha2*p2"
   ]
  },
  {
   "cell_type": "markdown",
   "metadata": {},
   "source": [
    "运行测试:"
   ]
  },
  {
   "cell_type": "code",
   "execution_count": 27,
   "metadata": {},
   "outputs": [
    {
     "name": "stdout",
     "output_type": "stream",
     "text": [
      "Success!\n"
     ]
    }
   ],
   "source": [
    "test_channel = Channel()\n",
    "CP_test = get_CP(test_channel)\n",
    "assert CP_test.degree() == 1023, f'cp的当前度数为{CP_test.degree()}，应该为1023'\n",
    "assert CP_test(2439804) == 838767343, f'cp(2439804) = {CP_test(2439804)}, 应该为838767343' \n",
    "print('Success!')"
   ]
  },
  {
   "cell_type": "markdown",
   "metadata": {},
   "source": [
    "### 对组合多项式进行承诺\n",
    "最后，我们在评估域(`eval_domain`)上评估$cp$值，在这些值之上构建一个默克尔树,并通过通道发送其根。这类似于我们在第1部分结束时对LDE轨迹进行的承诺。"
   ]
  },
  {
   "cell_type": "code",
   "execution_count": 28,
   "metadata": {},
   "outputs": [],
   "source": [
    "# 完善代码，CP_eval 是 CP 在评估域中的所有点的评估值。提示一下，看看第一部分中的\"在陪集上求值\"\n",
    "def CP_eval(channel):\n",
    "    CP = get_CP(channel)\n",
    "    return 'YOUR_CODE_HERE'"
   ]
  },
  {
   "cell_type": "markdown",
   "metadata": {},
   "source": [
    "答案:"
   ]
  },
  {
   "cell_type": "code",
   "execution_count": 29,
   "metadata": {
    "jupyter": {
     "source_hidden": true
    }
   },
   "outputs": [],
   "source": [
    "def CP_eval(channel):\n",
    "    CP = get_CP(channel)\n",
    "    return [CP(d) for d in eval_domain]"
   ]
  },
  {
   "cell_type": "markdown",
   "metadata": {},
   "source": [
    "构建一个默克尔树，并将根发送到通道上。"
   ]
  },
  {
   "cell_type": "code",
   "execution_count": 30,
   "metadata": {},
   "outputs": [],
   "source": [
    "channel = Channel()\n",
    "CP_merkle = MerkleTree(['YOUR_CODE_HERE']) # Fix this line\n",
    "channel.send(CP_merkle.root)"
   ]
  },
  {
   "cell_type": "markdown",
   "metadata": {},
   "source": [
    "答案:"
   ]
  },
  {
   "cell_type": "code",
   "execution_count": 31,
   "metadata": {
    "jupyter": {
     "source_hidden": true
    }
   },
   "outputs": [],
   "source": [
    "channel = Channel()\n",
    "CP_merkle = MerkleTree(CP_eval(channel))\n",
    "channel.send(CP_merkle.root)"
   ]
  },
  {
   "cell_type": "markdown",
   "metadata": {},
   "source": [
    "Test your code:"
   ]
  },
  {
   "cell_type": "code",
   "execution_count": 32,
   "metadata": {},
   "outputs": [
    {
     "name": "stdout",
     "output_type": "stream",
     "text": [
      "Success!\n"
     ]
    }
   ],
   "source": [
    "assert CP_merkle.root == 'a8c87ef9764af3fa005a1a2cf3ec8db50e754ccb655be7597ead15ed4a9110f1', 'Merkle tree 根错误.'\n",
    "print('Success!')"
   ]
  }
 ],
 "metadata": {
  "kernelspec": {
   "display_name": "Python 3 (ipykernel)",
   "language": "python",
   "name": "python3"
  },
  "language_info": {
   "codemirror_mode": {
    "name": "ipython",
    "version": 3
   },
   "file_extension": ".py",
   "mimetype": "text/x-python",
   "name": "python",
   "nbconvert_exporter": "python",
   "pygments_lexer": "ipython3",
   "version": "3.12.5"
  }
 },
 "nbformat": 4,
 "nbformat_minor": 4
}
