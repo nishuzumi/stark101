{
 "cells": [
  {
   "cell_type": "markdown",
   "metadata": {},
   "source": [
    "*Copyright 2019 StarkWare Industries Ltd.<br> Licensed under the Apache License, Version 2.0 (the \"License\"). You may not use this file except in compliance with the License. You may obtain a copy of the License at https://www.starkware.co/open-source-license/ <br> Unless required by applicable law or agreed to in writing, software distributed under the License is distributed on an \"AS IS\" BASIS, WITHOUT WARRANTIES OR CONDITIONS OF ANY KIND, either express or implied. See the License for the specific language governing permissions and limitations under the License.*"
   ]
  },
  {
   "cell_type": "markdown",
   "metadata": {
    "tags": []
   },
   "source": [
    "# Part 1: 执行轨迹和低度扩展\n",
    "- [Video Lecture (youtube)](https://www.youtube.com/watch?v=Y0uJz9VL3Fo)\n",
    "- [Slides (PDF)](https://starkware.co/wp-content/uploads/2021/12/STARK101-Part1.pdf)\n",
    "\n",
    "今天我们将为在一个有限域上的FibonacciSq序列开发一个STARK证明系统。\n",
    "FibonacciSq序列的计算公式为 $a_{n+2} = a_{n+1} ^2 + a_n ^2$\n",
    "<br>\n",
    "在今天的代码中，你的代码将会生成一个*STARK*证明，证明:<br>**你知道一个$X\\in \\mathbb{F}$，当计算一个前两个元素为[$1,X$]的FibonacciSq序列时，第1023个元素的结果为$2338775057$。**\n",
    "<br><br>\n",
    "## 基础知识\n",
    "### Fieldlement 类\n",
    "我们使用`FieldElement`类来表示有限域元素。<br>你可以从整数创建`FieldElement`的实例，然后进行加法、乘法、除法、求逆等操作。\n",
    "这个类的底层是$\\mathbb{F}_{3221225473}$ ($3221225473 = 3 \\cdot 2^{30} + 1$)，所以所有的操作都是模3221225473进行的。\n",
    "<br><br>\n",
    "尝试运行一下这段代码 (shift + enter):"
   ]
  },
  {
   "cell_type": "code",
   "execution_count": null,
   "metadata": {
    "scrolled": true
   },
   "outputs": [],
   "source": [
    "from field import FieldElement\n",
    "FieldElement(3221225472) + FieldElement(10)"
   ]
  },
  {
   "cell_type": "markdown",
   "metadata": {},
   "source": [
    "## FibonacciSq 执行轨迹\n",
    "\n",
    "首先，构建一个长度为1023的数组 `a`，其前两个元素为1和3141592，接下来的1021个元素为由这两个元素生成的FibonacciSq序列。`a`被称为FibonacciSq的执行轨迹，或者当上下文明确时，也可以简称轨迹。\n",
    "请完善一下代码，填充`a`:"
   ]
  },
  {
   "cell_type": "code",
   "execution_count": null,
   "metadata": {},
   "outputs": [],
   "source": [
    "a = [FieldElement(1), FieldElement(3141592)]\n",
    "'YOUR_CODE_HERE'"
   ]
  },
  {
   "cell_type": "markdown",
   "metadata": {},
   "source": [
    "答案 (点击 ... 展开):"
   ]
  },
  {
   "cell_type": "code",
   "execution_count": null,
   "metadata": {
    "jupyter": {
     "source_hidden": true
    }
   },
   "outputs": [],
   "source": [
    "a = [FieldElement(1), FieldElement(3141592)]\n",
    "while len(a) < 1023:\n",
    "    a.append(a[-2] * a[-2] + a[-1] * a[-1])"
   ]
  },
  {
   "cell_type": "markdown",
   "metadata": {},
   "source": [
    "### 测试你的代码\n",
    "运行下一段代码，检查你的代码是否正确填充了`a`。<br> 注意，这段代码实际上是一个验证器，虽然它非常简单和非简洁。它会遍历整个序列，逐个检查元素是否正确。"
   ]
  },
  {
   "cell_type": "code",
   "execution_count": null,
   "metadata": {},
   "outputs": [],
   "source": [
    "assert len(a) == 1023, '执行轨迹必须只有1023个元素'\n",
    "assert a[0] == FieldElement(1), '执行轨迹的第一个元素必须是1'\n",
    "for i in range(2, 1023):\n",
    "    assert a[i] == a[i - 1] * a[i - 1] + a[i - 2] * a[i - 2], f'第{i}个元素不对'\n",
    "assert a[1022] == FieldElement(2338775057), '最后一个元素不对'\n",
    "print('成功🏅!')"
   ]
  },
  {
   "cell_type": "markdown",
   "metadata": {},
   "source": [
    "## 多项式化\n",
    "我们现在要将序列视为某个尚未确定的1022次多项式 $f$ 在特定域上的求值（根据Unisolvence Theorem）。\n",
    "因为后续的一些原因，我吗选择了 $G \\subseteq \\mathbb{F}^\\times$ 的子群，大小为1024。\n",
    "\n",
    "（回顾一下，$\\mathbb{F}^\\times$ 表示 $\\mathbb{F}$ 的乘法群，它是从 $\\mathbb{F}$ 中去掉零元素后得到的。$\\mathbb{F}^\\times$ 是一个循环群，大小为 $3\\cdot 2^{30}$，所以它包含一个大小为 $2^i$ 的子群，其中 $0 \\leq i \\leq 30$。）\n",
    "### 寻找阶为1024的群\n",
    "（注：群的阶和群的元素个数是同一个概念。即，群的size和order是同一个东西。）\n",
    "\n",
    "（注：元素的阶指的是元素a的阶是使得 $ a^n = e $ 的最小正整数n,其中e是群的单位元）\n",
    "\n",
    "如果我们找到了一个元素 $g \\in \\mathbb{F}$ 的阶为1024，那么 $g$ 将生成一个阶为1024的群 $G$。\n",
    "`FieldElement` 类提供了静态方法 `generator()`，它返回一个生成 $\\mathbb{F}^\\times$ 的元素（$\\mathbb{F}^\\times$ 的阶为 $|\\mathbb{F}^\\times|$）。\n",
    "1. 使用它来获取一个生成 $G$ 的元素 $g$。\n",
    "2. 创建一个列表 `G`，包含 $G$ 的所有元素，使得 $G[i] := g^i$。\n",
    "\n",
    "*提示：当 $k$ 整除 $|\\mathbb{F}^\\times|$ 时，$g^k$ 生成一个阶为 $\\frac {|\\mathbb{F}^\\times|}{k}$ 的群，而 `FieldElement` $x$ 的 $n$ 次方可以通过调用 `x ** n` 来计算。*\n"
   ]
  },
  {
   "cell_type": "code",
   "execution_count": null,
   "metadata": {},
   "outputs": [],
   "source": [
    "# 将下面的代码改成使得 g 生成一个阶为 1024 的群\n",
    "g = FieldElement.generator()\n",
    "# 创建一个列表 G，包含 G 的所有元素，使得 G[i] := g^i\n",
    "G = [] "
   ]
  },
  {
   "cell_type": "markdown",
   "metadata": {},
   "source": [
    "答案:"
   ]
  },
  {
   "cell_type": "code",
   "execution_count": null,
   "metadata": {
    "jupyter": {
     "source_hidden": true
    }
   },
   "outputs": [],
   "source": [
    "g = FieldElement.generator() ** (3 * 2 ** 20)\n",
    "G = [g ** i for i in range(1024)]"
   ]
  },
  {
   "cell_type": "markdown",
   "metadata": {},
   "source": [
    "运行下面这段代码来测试你的代码"
   ]
  },
  {
   "cell_type": "code",
   "execution_count": null,
   "metadata": {},
   "outputs": [],
   "source": [
    "# 检查 g 和 G 是否正确\n",
    "assert g.is_order(1024), 'g 的阶不对'\n",
    "b = FieldElement(1)\n",
    "for i in range(1023):\n",
    "    assert b == G[i], 'G 的第 i 个元素不对'\n",
    "    b = b * g\n",
    "    assert b != FieldElement(1), f'g 的阶大于 {i + 1}'\n",
    "    \n",
    "if b * g == FieldElement(1):\n",
    "    print('成功')\n",
    "else:\n",
    "    print('g 的阶大于 1024')"
   ]
  },
  {
   "cell_type": "markdown",
   "metadata": {},
   "source": [
    "### 多项式 类\n",
    "现在这里有一个类 `Polynomial`，构造一个多项式 `Polynomial` 的最简单的方式是使用变量 `X`（注意，它是大写的 `X`），它代表多项式中的变量 $x$："
   ]
  },
  {
   "cell_type": "code",
   "execution_count": null,
   "metadata": {},
   "outputs": [],
   "source": [
    "from polynomial import X\n",
    "# 多项式 2x^2 + 1\n",
    "p = 2*X**2 + 1\n",
    "# 计算 p 在 2 处的值\n",
    "print(p(2))\n",
    "# 在最后一行输出多项式\n",
    "p"
   ]
  },
  {
   "cell_type": "markdown",
   "metadata": {},
   "source": [
    "### 多项式插值(Interpolating a Polynomial) \n",
    "`polynomial` 模块提供了拉格朗日插值函数，它的参数是：\n",
    "* x_values: 多项式在有限域G中的已知的x坐标。[列表]\n",
    "* y_values: 对应的y坐标。[列表]\n",
    "\n",
    "该函数返回一个`Polynomail` 度数小于`len(x_values)`，它在`x_values[i]`处对应的值为`y_values[i]`。\n",
    "\n",
    "(注：度数是多项式的最高次项的指数，比如 $ x^4 + 3x^2 $ 的度数为4)"
   ]
  },
  {
   "cell_type": "markdown",
   "metadata": {},
   "source": [
    "运行下面的代码来获取函数`interpolate_poly`的调用帮助信息。"
   ]
  },
  {
   "cell_type": "code",
   "execution_count": null,
   "metadata": {},
   "outputs": [],
   "source": [
    "from polynomial import interpolate_poly\n",
    "interpolate_poly?"
   ]
  },
  {
   "cell_type": "markdown",
   "metadata": {},
   "source": [
    "假设 a 包含了某个定义在有限域 G 上的多项式的取值（除了 G[-1]，因为 a 的长度比 G 少一个元素）。\n",
    "使用`interpolate_poly()` 函数来构造多项式`f`，然后获取在点 `FieldElement(2)` 的值。"
   ]
  },
  {
   "cell_type": "code",
   "execution_count": null,
   "metadata": {},
   "outputs": [],
   "source": [
    "from polynomial import interpolate_poly\n",
    "# 完善代码，使得 v 等于 f 在点 FieldElement(2) 处的值\n",
    "# 注意：`interpolate_poly` 可能需要长达一分钟才能运行完成。\n",
    "v = 'YOUR_CODE_HERE'"
   ]
  },
  {
   "cell_type": "markdown",
   "metadata": {},
   "source": [
    "Solution:"
   ]
  },
  {
   "cell_type": "code",
   "execution_count": null,
   "metadata": {
    "jupyter": {
     "source_hidden": true
    }
   },
   "outputs": [],
   "source": [
    "f = interpolate_poly(G[:-1], a)\n",
    "v = f(2)"
   ]
  },
  {
   "cell_type": "markdown",
   "metadata": {},
   "source": [
    "Run test:"
   ]
  },
  {
   "cell_type": "code",
   "execution_count": null,
   "metadata": {},
   "outputs": [],
   "source": [
    "assert v == FieldElement(1302089273)\n",
    "print('成功!')"
   ]
  },
  {
   "cell_type": "markdown",
   "metadata": {},
   "source": [
    "## 在更大的域上求值\n",
    "我们可以将轨迹视为$f$在$G$上的求值，然后通过在更大的域上求值$f$来扩展它，从而构造出里德-所罗门（Reed-Solomon）纠错码。\n",
    "\n",
    "### 陪集\n",
    "为此,我们需要确定一个更大的域来对 $f$ 进行求值。\n",
    "\n",
    "我们将使用一个比 $G$ 大8倍的域。<br> 一个理所当然的选择是取一个大小为8192的陪集 $H$（这个群存在，因为8192整除 $|\\mathbb{F}^\\times|$ ）。然后，用 $H$ 中的每个元素乘以 $\\mathbb{F}^\\times$ 的生成元，从而得到一个新的[陪集](https://en.wikipedia.org/wiki/Coset) $H$。\n",
    "\n",
    "创建一个列表 `H` ，包含 $H$ 的所有元素，然后将每个元素乘以 $\\mathbb{F}^\\times$ 的生成元,得到一个名为 `eval_domain` 的列表。换句话说,eval_domain = $\\{w\\cdot h^i | 0 \\leq i <8192 \\}$,其中 $h$ 是 $H$ 的生成元, $w$ 是 $\\mathbb{F}^\\times$ 的生成元。\n",
    "\n",
    "提示：你已经知道如何得到 $H$ 了，同样的道理，你也知道如何得到 $G$ 。\n"
   ]
  },
  {
   "cell_type": "code",
   "execution_count": null,
   "metadata": {},
   "outputs": [],
   "source": [
    "# 修正以下内容，确保 H 中的元素按顺序是其生成元的幂\n",
    "# 也就是说 - H[0] 将是单位元，H[1] 将是 h（H 的生成元），H[2] 将是 H 的生成元的平方，依此类推\n",
    "H = 'YOUR_CODE_HERE'\n",
    "eval_domain = 'YOUR_CODE_HERE'"
   ]
  },
  {
   "cell_type": "markdown",
   "metadata": {},
   "source": [
    "答案:"
   ]
  },
  {
   "cell_type": "code",
   "execution_count": null,
   "metadata": {
    "jupyter": {
     "source_hidden": true
    }
   },
   "outputs": [],
   "source": [
    "w = FieldElement.generator()\n",
    "h = w ** ((2 ** 30 * 3) // 8192)\n",
    "H = [h ** i for i in range(8192)]\n",
    "eval_domain = [w * x for x in H]\n"
   ]
  },
  {
   "cell_type": "markdown",
   "metadata": {},
   "source": [
    "运行测试:"
   ]
  },
  {
   "cell_type": "code",
   "execution_count": null,
   "metadata": {
    "scrolled": true
   },
   "outputs": [],
   "source": [
    "from hashlib import sha256\n",
    "assert len(set(eval_domain)) == len(eval_domain)\n",
    "w = FieldElement.generator()\n",
    "w_inv = w.inverse()\n",
    "assert '55fe9505f35b6d77660537f6541d441ec1bd919d03901210384c6aa1da2682ce' == sha256(str(H[1]).encode()).hexdigest(),\\\n",
    "    'H list is incorrect. H[1] should be h (i.e., the generator of H).'\n",
    "for i in range(8192):\n",
    "    assert ((w_inv * eval_domain[1]) ** i) * w == eval_domain[i]\n",
    "print('Success!')"
   ]
  },
  {
   "cell_type": "markdown",
   "metadata": {},
   "source": [
    "### 在陪集上求值\n",
    "是时候使用`interpolate_poly`和`Polynomial.poly`来在陪集上求值了。请注意，在我们的Python模块中，这个操作实现得很简单，所以插值可能需要一分钟的时间。<br>\n",
    "实际上，虽然可以使用更高效的算法（例如FFT），但对计算轨迹多项式插值和在陪集上求值的仍然是STARK协议中最耗时的步骤。"
   ]
  },
  {
   "cell_type": "code",
   "execution_count": null,
   "metadata": {},
   "outputs": [],
   "source": [
    "# Fill f_eval with the evaluations of f on eval_domain.\n",
    "# 完善下面的代码，使得 f_eval 为 使用 f 在 `eval_domain` 中的所有元素的运算结果。\n",
    "f_eval = 'YOUR_CODE_HERE'"
   ]
  },
  {
   "cell_type": "markdown",
   "metadata": {},
   "source": [
    "答案:"
   ]
  },
  {
   "cell_type": "code",
   "execution_count": null,
   "metadata": {
    "jupyter": {
     "source_hidden": true
    }
   },
   "outputs": [],
   "source": [
    "f = interpolate_poly(G[:-1], a)\n",
    "f_eval = [f(d) for d in eval_domain]"
   ]
  },
  {
   "cell_type": "markdown",
   "metadata": {},
   "source": [
    "运行测试:"
   ]
  },
  {
   "cell_type": "code",
   "execution_count": null,
   "metadata": {},
   "outputs": [],
   "source": [
    "# 根据预先计算的哈希值进行测试\n",
    "from hashlib import sha256\n",
    "from channel import serialize\n",
    "assert '1d357f674c27194715d1440f6a166e30855550cb8cb8efeb72827f6a1bf9b5bb' == sha256(serialize(f_eval).encode()).hexdigest()\n",
    "print('Success!')"
   ]
  },
  {
   "cell_type": "markdown",
   "metadata": {},
   "source": [
    "## 承诺\n",
    "我们将会使用基于[Sha256](https://en.wikipedia.org/wiki/SHA-2)的[Merkle Trees](https://en.wikipedia.org/wiki/Merkle_tree)作为我们的承诺方案。\n",
    "`MerkleTree` 类提供了一个简单的实现。\n",
    "请运行下一段代码（在本教程中，这也是对整个代码的正确性计算测试）"
   ]
  },
  {
   "cell_type": "code",
   "execution_count": null,
   "metadata": {},
   "outputs": [],
   "source": [
    "from merkle import MerkleTree\n",
    "f_merkle = MerkleTree(f_eval)\n",
    "assert f_merkle.root == '6c266a104eeaceae93c14ad799ce595ec8c2764359d7ad1b4b7c57a4da52be04'\n",
    "print('Success!')"
   ]
  },
  {
   "cell_type": "markdown",
   "metadata": {},
   "source": [
    "## 通道(Channel)\n",
    "理论上来说，STARK证明系统是一个证明者和验证者之间的交互协议。但是在实践中，我们使用[Fiat-Shamir Heuristic](https://en.wikipedia.org/wiki/Fiat%E2%80%93Shamir_heuristic)将这个交互协议转换为非交互证明。在本教程中，你将使用`Channel`类，它实现了这个转换。这个通道的意思是，证明者（你正在编写的）会发送数据，接收随机数或者随机`FieldElement`实例。\n",
    "\n",
    "这段简单的代码实例化了一个通道对象，并且发送了你的Merkle树的根，之后，可以调用这个通道对象来提供随机数或者随机`FieldElement`实例。"
   ]
  },
  {
   "cell_type": "code",
   "execution_count": null,
   "metadata": {},
   "outputs": [],
   "source": [
    "from channel import Channel\n",
    "channel = Channel()\n",
    "channel.send(f_merkle.root)"
   ]
  },
  {
   "cell_type": "markdown",
   "metadata": {},
   "source": [
    "最后，你可以通过打印`Channel.proof`来获取到通道中传递的数据（即，目前所有通过通道发送的内容）。"
   ]
  },
  {
   "cell_type": "code",
   "execution_count": null,
   "metadata": {},
   "outputs": [],
   "source": [
    "print(channel.proof)"
   ]
  }
 ],
 "metadata": {
  "kernelspec": {
   "display_name": "Python 3 (ipykernel)",
   "language": "python",
   "name": "python3"
  },
  "language_info": {
   "codemirror_mode": {
    "name": "ipython",
    "version": 3
   },
   "file_extension": ".py",
   "mimetype": "text/x-python",
   "name": "python",
   "nbconvert_exporter": "python",
   "pygments_lexer": "ipython3",
   "version": "3.12.5"
  }
 },
 "nbformat": 4,
 "nbformat_minor": 4
}
