{
 "cells": [
  {
   "cell_type": "markdown",
   "metadata": {},
   "source": [
    "*Copyright 2019 StarkWare Industries Ltd.<br> Licensed under the Apache License, Version 2.0 (the \"License\"). You may not use this file except in compliance with the License. You may obtain a copy of the License at https://www.starkware.co/open-source-license/ <br> Unless required by applicable law or agreed to in writing, software distributed under the License is distributed on an \"AS IS\" BASIS, WITHOUT WARRANTIES OR CONDITIONS OF ANY KIND, either express or implied. See the License for the specific language governing permissions and limitations under the License.*"
   ]
  },
  {
   "cell_type": "markdown",
   "metadata": {},
   "source": [
    "# Part 3: FRI承诺"
   ]
  },
  {
   "cell_type": "markdown",
   "metadata": {
    "tags": []
   },
   "source": [
    "- [Video Lecture (youtube)](https://www.youtube.com/watch?v=gd1NbKUOJwA)\n",
    "- [Slides (PDF)](https://starkware.co/wp-content/uploads/2021/12/STARK101-Part3.pdf)\n",
    "\n",
    "### 加载上一章节内容\n",
    "运行下面代码来加载相关内容。耐心等待，他们需要一点时间运行。"
   ]
  },
  {
   "cell_type": "code",
   "execution_count": 24,
   "metadata": {},
   "outputs": [
    {
     "name": "stdout",
     "output_type": "stream",
     "text": [
      "Success\n"
     ]
    }
   ],
   "source": [
    "from channel import Channel\n",
    "from field import FieldElement\n",
    "from merkle import MerkleTree\n",
    "from polynomial import interpolate_poly, Polynomial \n",
    "from tutorial_sessions import part1, part2\n",
    "\n",
    "cp, cp_eval, cp_merkle, channel, eval_domain = part2()\n",
    "print(\"Success\")"
   ]
  },
  {
   "cell_type": "markdown",
   "metadata": {},
   "source": [
    "## FRI 折叠\n",
    "\n",
    "这部分中，我们的目标是构造FRI层并对他们进行承诺。\n",
    "\n",
    "为了获取每一层，我们需要做到：\n",
    "1. 生成当前层的域（从上一层的域中获取）\n",
    "2. 生成当前层的多项式（从上一层的多项式和域中获取）\n",
    "3. 在所述域上评估所述多项式 - **这就是下一个FRI层**"
   ]
  },
  {
   "cell_type": "markdown",
   "metadata": {},
   "source": [
    "### 域生成-生成当前域\n",
    "\n",
    "第一个FRI域就是你在第一部分中生成的`eval_domain`，即阶为8192的群的陪集。每个后续的FRI域都是通过取前一个FRI域的前一半（丢弃后一半），然后对每个元素进行平方得到的。\n",
    "\n",
    "\n",
    "专业一点来说，我们可以通过以下公式来生成：\n",
    "\n",
    "$$w, w\\cdot h, w\\cdot h^2, ..., w\\cdot h^{8191}$$\n",
    "\n",
    "因此，下一层将是：\n",
    "\n",
    "$$w^2, (w\\cdot h)^2, (w\\cdot h^2)^2, ..., (w\\cdot h^{4095})^2$$"
   ]
  },
  {
   "cell_type": "markdown",
   "metadata": {},
   "source": [
    "请注意，对`eval_domain`的第二半部分的平方与对`eval_domain`的第一个半部分的平方是相同的。这对于下一层也同样成立。\n",
    "\n",
    "例如："
   ]
  },
  {
   "cell_type": "code",
   "execution_count": 17,
   "metadata": {},
   "outputs": [
    {
     "name": "stdout",
     "output_type": "stream",
     "text": [
      "-373161870\n",
      "8192\n",
      "-373161870\n"
     ]
    }
   ],
   "source": [
    "print(eval_domain[100] ** 2)\n",
    "half_domain_size = len(eval_domain) // 2\n",
    "print(eval_domain[half_domain_size + 100] ** 2)"
   ]
  },
  {
   "cell_type": "markdown",
   "metadata": {},
   "source": [
    "类似的，第三层的域将是：\n",
    "\n",
    "$$w^4, (w\\cdot h)^4, (w\\cdot h^2)^4, ..., (w\\cdot h^{2047})^4$$\n",
    "\n",
    "以此类推"
   ]
  },
  {
   "cell_type": "markdown",
   "metadata": {},
   "source": [
    "编写一个函数`next_fri_domain`，它接受上一个域作为输入，并输出下一个域。"
   ]
  },
  {
   "cell_type": "code",
   "execution_count": 3,
   "metadata": {},
   "outputs": [],
   "source": [
    "def next_fri_domain(fri_domain):\n",
    "    # Fix this.\n",
    "    return [x for x in fri_domain[:len(fri_domain) // 2]]"
   ]
  },
  {
   "cell_type": "markdown",
   "metadata": {},
   "source": [
    "答案:"
   ]
  },
  {
   "cell_type": "code",
   "execution_count": 4,
   "metadata": {
    "jupyter": {
     "source_hidden": true
    }
   },
   "outputs": [],
   "source": [
    "def next_fri_domain(fri_domain):\n",
    "    return [x ** 2 for x in fri_domain[:len(fri_domain) // 2]]"
   ]
  },
  {
   "cell_type": "markdown",
   "metadata": {},
   "source": [
    "运行测试: "
   ]
  },
  {
   "cell_type": "code",
   "execution_count": 5,
   "metadata": {},
   "outputs": [
    {
     "name": "stdout",
     "output_type": "stream",
     "text": [
      "Success!\n"
     ]
    }
   ],
   "source": [
    "# Test against a precomputed hash.\n",
    "from hashlib import sha256\n",
    "next_domain = next_fri_domain(eval_domain)\n",
    "assert '5446c90d6ed23ea961513d4ae38fc6585f6614a3d392cb087e837754bfd32797' == sha256(','.join([str(i) for i in next_domain]).encode()).hexdigest()\n",
    "print('Success!')"
   ]
  },
  {
   "cell_type": "markdown",
   "metadata": {},
   "source": [
    "### 多项式生成-生成当前层的多项式(原文为FRI折叠运算符)\n",
    "第一个FRI多项式就是组合多项式，即 `cp` 。\n",
    "\n",
    "后续每一个FRI多项式都是通过以下步骤得到的：\n",
    "\n",
    "1. 获取一个随机域元素 $\\beta$ (通过调用 `Channel.receive_random_field_element` 来获取)。\n",
    "2. 将前一个多项式的奇数系数乘以 $\\beta$ 。\n",
    "3. 将相邻的偶数和奇数系数相加。\n",
    "\n",
    "\n",
    "专业一点来说，假设第k个多项式的度 $ < m $ (其中 $m$ 是2的幂)\n",
    "\n",
    "$$p_{k}(x) := \\sum _{i=0} ^{m-1} c_i x^i$$\n",
    "\n",
    "那么第k+1个多项式，其度数为 $< \\frac m 2 $ ，如下：\n",
    "\n",
    "$$p_{k+1}(x) := \\sum _{i=0} ^{  m / 2 - 1 } (c_{2i} + \\beta \\cdot c_{2i + 1}) x^i$$"
   ]
  },
  {
   "cell_type": "markdown",
   "metadata": {},
   "source": [
    "编写一个函数 `next_fri_polynomial` ，它接受一个多项式和一个域元素 (我们称之为 $\\beta$ )，并返回 \"折叠\" 后的下一个多项式。\n",
    "\n",
    "注意：\n",
    "1. `Polynomial.poly` 包含一个多项式系数的列表，常数项，最后最高次项，所以如果 $x^i$ 的系数是 $u$ ，那么 `p.poly[i] == u`。*\n",
    "2. `Polynomial` 的默认构造函数接受系数列表作为参数。因此，可以通过调用 Polynomial(l) 从系数列表 l 实例化一个多项式。"
   ]
  },
  {
   "cell_type": "code",
   "execution_count": 6,
   "metadata": {},
   "outputs": [],
   "source": [
    "def next_fri_polynomial(poly, beta):\n",
    "    odd_coefficients = poly.poly[1::2] # No need to fix this line.\n",
    "    even_coefficients = poly.poly[::2] # No need to fix this line either.\n",
    "    odd = 'YOUR_CODE_HERE'\n",
    "    even = 'YOUR_CODE_HERE'\n",
    "    return 'YOUR_CODE_HERE'"
   ]
  },
  {
   "cell_type": "markdown",
   "metadata": {},
   "source": [
    "答案:"
   ]
  },
  {
   "cell_type": "code",
   "execution_count": 7,
   "metadata": {
    "jupyter": {
     "source_hidden": true
    }
   },
   "outputs": [],
   "source": [
    "def next_fri_polynomial(poly,  beta):\n",
    "    odd_coefficients = poly.poly[1::2]\n",
    "    even_coefficients = poly.poly[::2]\n",
    "    odd = beta * Polynomial(odd_coefficients)\n",
    "    even = Polynomial(even_coefficients)\n",
    "    return odd + even"
   ]
  },
  {
   "cell_type": "markdown",
   "metadata": {},
   "source": [
    "运行测试:"
   ]
  },
  {
   "cell_type": "code",
   "execution_count": 8,
   "metadata": {},
   "outputs": [
    {
     "name": "stdout",
     "output_type": "stream",
     "text": [
      "Success!\n"
     ]
    }
   ],
   "source": [
    "next_p = next_fri_polynomial(cp, FieldElement(987654321))\n",
    "assert '6bff4c35e1aa9693f9ceb1599b6a484d7636612be65990e726e52a32452c2154' == sha256(','.join([str(i) for i in next_p.poly]).encode()).hexdigest()\n",
    "print('Success!')"
   ]
  },
  {
   "cell_type": "markdown",
   "metadata": {},
   "source": [
    "### 整合以获得下一个FRI层-在所述域上计算所述多项式\n",
    "\n",
    "编写一个函数 `next_fri_layer` ，它接受一个多项式，一个域，和一个域元素 ($\\beta$)，并返回下一个多项式，下一个域，以及这个新多项式在新域上的求值结果。"
   ]
  },
  {
   "cell_type": "code",
   "execution_count": 9,
   "metadata": {},
   "outputs": [],
   "source": [
    "def next_fri_layer(poly, domain, beta):\n",
    "    next_poly = 'YOUR_CODE_HERE'\n",
    "    next_domain = 'YOUR_CODE_HERE'\n",
    "    next_layer = 'YOUR_CODE_HERE'\n",
    "    return next_poly, next_domain, next_layer"
   ]
  },
  {
   "cell_type": "markdown",
   "metadata": {},
   "source": [
    "答案:"
   ]
  },
  {
   "cell_type": "code",
   "execution_count": 10,
   "metadata": {
    "jupyter": {
     "source_hidden": true
    }
   },
   "outputs": [],
   "source": [
    "def next_fri_layer(poly, domain, beta):\n",
    "    next_poly = next_fri_polynomial(poly, beta)\n",
    "    next_domain = next_fri_domain(domain)\n",
    "    next_layer = [next_poly(x) for x in next_domain]\n",
    "    return next_poly, next_domain, next_layer"
   ]
  },
  {
   "cell_type": "markdown",
   "metadata": {},
   "source": [
    "运行测试:"
   ]
  },
  {
   "cell_type": "code",
   "execution_count": 11,
   "metadata": {},
   "outputs": [
    {
     "name": "stdout",
     "output_type": "stream",
     "text": [
      "Success!\n"
     ]
    }
   ],
   "source": [
    "test_poly = Polynomial([FieldElement(2), FieldElement(3), FieldElement(0), FieldElement(1)])\n",
    "test_domain = [FieldElement(3), FieldElement(5)]\n",
    "beta = FieldElement(7)\n",
    "next_p, next_d, next_l = next_fri_layer(test_poly, test_domain, beta)\n",
    "assert next_p.poly == [FieldElement(23), FieldElement(7)]\n",
    "assert next_d == [FieldElement(9)]\n",
    "assert next_l == [FieldElement(86)]\n",
    "print('Success!')"
   ]
  },
  {
   "cell_type": "markdown",
   "metadata": {},
   "source": [
    "## 生成FRI承诺\n",
    "\n",
    "我们现在已经开发了编写 `FriCommit` 方法所需要的工具，该方法包含主要的FRI承诺循环。\n",
    "\n",
    "\n",
    "它接受以下5个参数:\n",
    "\n",
    "1. 组合多项式，即第一个FRI多项式，即 `cp`。\n",
    "2. 8192阶陪集，也是第一个FRI域，即 `eval_domain`。\n",
    "3. 前者在后者上的求值，也是第一个FRI层，即 `cp_eval`。\n",
    "4. 从这些求值构造的第一个默克尔树（我们将为每个FRI层构造一个），即 `cp_merkle`。\n",
    "5. 通道对象，即 `channel`。\n",
    "\n",
    "\n",
    "相应地，该方法返回4个列表：\n",
    "1. FRI多项式。\n",
    "2. FRI域。\n",
    "3. FRI层。\n",
    "4. FRI Merkle 树。\n",
    "\n",
    "该方法包含一个循环，每次迭代中，我们使用每个列表最后一个元素来拓展这四个列表。\n",
    "\n",
    "当最后一个FRI多项式是常数时(也就是度为0时)，循环应该停止。然后，它应该将这个常数（即多项式的常数项）发送到通道上。\n",
    "\n",
    "`Channel` 类只支持发送字符串，因此在发送之前，请确保将要发送的任何内容转换为字符串。"
   ]
  },
  {
   "cell_type": "code",
   "execution_count": 12,
   "metadata": {},
   "outputs": [],
   "source": [
    "# 根据介绍修改代码（没有注释的行不用改）\n",
    "def FriCommit(cp, domain, cp_eval, cp_merkle, channel):\n",
    "    fri_polys = [cp]\n",
    "    fri_domains = [domain]\n",
    "    fri_layers = [cp_eval]\n",
    "    fri_merkles = [cp_merkle]\n",
    "    while 'YOUR_CODE_HERE': # 替换成正确的停止条件\n",
    "        beta = 'YOUR_CODE_HERE' #  修改成从通道中获取随机元素\n",
    "        next_poly, next_domain, next_layer = 'YOUR_CODE_HERE' #  修改成获取下一个FRI多项式、域和层\n",
    "        fri_polys.append(next_poly)\n",
    "        fri_domains.append(next_domain)\n",
    "        fri_layers.append(next_layer)\n",
    "        fri_merkles.append('YOUR_CODE_HERE') #  修改成构造正确的默克尔树\n",
    "        channel.send('YOUR_CODE_HERE') #  修改成发送正确的承诺\n",
    "    channel.send('YOUR_CODE_HERE') #  修改成发送最后一层的自由项\n",
    "    return fri_polys, fri_domains, fri_layers, fri_merkles"
   ]
  },
  {
   "cell_type": "markdown",
   "metadata": {},
   "source": [
    "答案:"
   ]
  },
  {
   "cell_type": "code",
   "execution_count": 34,
   "metadata": {
    "jupyter": {
     "source_hidden": true
    }
   },
   "outputs": [],
   "source": [
    "def FriCommit(cp, domain, cp_eval, cp_merkle, channel):    \n",
    "    fri_polys = [cp]\n",
    "    fri_domains = [domain]\n",
    "    fri_layers = [cp_eval]\n",
    "    fri_merkles = [cp_merkle]\n",
    "    while fri_polys[-1].degree() > 0:\n",
    "        beta = channel.receive_random_field_element()\n",
    "        next_poly, next_domain, next_layer = next_fri_layer(fri_polys[-1], fri_domains[-1], beta)\n",
    "        fri_polys.append(next_poly)\n",
    "        fri_domains.append(next_domain)\n",
    "        fri_layers.append(next_layer)\n",
    "        fri_merkles.append(MerkleTree(next_layer))\n",
    "        channel.send(fri_merkles[-1].root)   \n",
    "    channel.send(str(fri_polys[-1].poly[0]))\n",
    "    return fri_polys, fri_domains, fri_layers, fri_merkles"
   ]
  },
  {
   "cell_type": "markdown",
   "metadata": {},
   "source": [
    "运行测试:"
   ]
  },
  {
   "cell_type": "code",
   "execution_count": 14,
   "metadata": {},
   "outputs": [
    {
     "name": "stdout",
     "output_type": "stream",
     "text": [
      "Success!\n"
     ]
    }
   ],
   "source": [
    "test_channel = Channel()\n",
    "fri_polys, fri_domains, fri_layers, fri_merkles = FriCommit(cp, eval_domain, cp_eval, cp_merkle, test_channel)\n",
    "assert len(fri_layers) == 11, f'Expected number of FRI layers is 11, whereas it is actually {len(fri_layers)}.'\n",
    "assert len(fri_layers[-1]) == 8, f'Expected last layer to contain exactly 8 elements, it contains {len(fri_layers[-1])}.'\n",
    "assert all([x == FieldElement(-1138734538) for x in fri_layers[-1]]), f'Expected last layer to be constant.'\n",
    "assert fri_polys[-1].degree() == 0, 'Expacted last polynomial to be constant (degree 0).'\n",
    "assert fri_merkles[-1].root == '1c033312a4df82248bda518b319479c22ea87bd6e15a150db400eeff653ee2ee', 'Last layer Merkle root is wrong.'\n",
    "assert test_channel.state == '61452c72d8f4279b86fa49e9fb0fdef0246b396a4230a2bfb24e2d5d6bf79c2e', 'The channel state is not as expected.'\n",
    "print('Success!')"
   ]
  },
  {
   "cell_type": "markdown",
   "metadata": {},
   "source": [
    "运行下面代码，并且打印通道中的证明内容"
   ]
  },
  {
   "cell_type": "code",
   "execution_count": 35,
   "metadata": {},
   "outputs": [
    {
     "name": "stdout",
     "output_type": "stream",
     "text": [
      "['send:6c266a104eeaceae93c14ad799ce595ec8c2764359d7ad1b4b7c57a4da52be04', 'receive_random_field_element:2948900820', 'receive_random_field_element:1859037345', 'receive_random_field_element:2654806830', 'send:61f7d8283e244d391a483c420776e351fcfdbce525a698461a8307a1345b5652', 'receive_random_field_element:394024765', 'receive_random_field_element:902225401', 'receive_random_field_element:2586476798', 'send:dc87249e62b35141c51fe73c541e2ac4929cbcedf012ad9c2c93be0f9f72b778', 'receive_random_field_element:1751808743', 'send:a4ca0211faeda0bc13fdee29fb0f005656b4a6f5952fbc0c218541e4b9b52093', 'receive_random_field_element:2983935505', 'send:b17ebd83c25ee2d8f4a52265d33e3954a9734a7814c0dc56c732ba51e83ebaf8', 'receive_random_field_element:3100871748', 'send:cfd52d4f43c446a9ad632f52872498262d60b73c477d247b26782397b6b38914', 'receive_random_field_element:2795361144', 'send:25973e983015bf2318a35219d53b9bba93ce6f7c3046e27eb1d79c21bee8e6c3', 'receive_random_field_element:2859576984', 'send:45841da28067d3f7deb71e2045119f665f77058a1609290b9cb3d510a0f865d5', 'receive_random_field_element:2735824180', 'send:c634df59bc6d24f2f8a9174106329f5ca95ed8654b6d905345aff94db9cfdc4e', 'receive_random_field_element:1725819545', 'send:5575e41c2ab680d4367ca8440ab03de27a8314e7c30b3906627b73b347ea83b4', 'receive_random_field_element:1778450315', 'send:5356a3d7db9e1975c154b3e66cefdf8871417ac6bb74491a483798959cb6ef48', 'receive_random_field_element:2712011907', 'send:df7223de311b9ad131c629e71330b716acd257efb4cae5536961fc87aa855fc6', 'send:-429039144', 'receive_random_field_element:1001941829', 'send:83c61b304bf3b43008ad7d1f586f70cefa92c67254edb32b03c11f4be7ee2ea2', 'receive_random_field_element:733568099', 'send:225d3e29c8ecd1345fe9fdd28c115e06990505d72b8af2857f0890f02adbbc42', 'receive_random_field_element:2982672093', 'send:fc47f7d4967b0c2c11c1fb335e0956292f3bdb1ca68f3bd0ad47aa6d96efa7c6', 'receive_random_field_element:2409190348', 'send:18799c72cc0a32f907081795dea4e8f331ebc1ef1c5a1de2e4d861dae69d1629', 'receive_random_field_element:1489733199', 'send:66f48d63be19e279c0b1db83cc1068258024b633e2a4bfcb499d41dac1fe4694', 'receive_random_field_element:1869824108', 'send:46dad61b95607188765c4851d2713ed04c6e4b6dd1865d1e993640c8a0e69374', 'receive_random_field_element:2917250626', 'send:7418b73cb664fcb7486db30c3964e9a6440b7081317c075df9a59cc03b59db88', 'receive_random_field_element:651679206', 'send:8843a2684ade7e053d37ea2e9f471e756e0888fa9288d33bca29c55a264bc67b', 'receive_random_field_element:2351604920', 'send:aed1bb4ab5042d8b46d5a92866ba0e6fce28e2ac8c6ea35948667045b82f3b2e', 'receive_random_field_element:1831510407', 'send:6c5a6e2d19beaee94f0ac38258f9ed32aa9704def5ab59261df1a87b1f971970', 'send:-1368565068', 'receive_random_field_element:726777194', 'send:64f51c3b1f20768e20076390ea933e545fbbe2f2aa0c332eb205599a4a7fb6ca', 'receive_random_field_element:2140270582', 'send:09ef6cf5dd516e50a60578aab3642becf7cd37b3e1a16b2d6411101f2b363fa6', 'receive_random_field_element:1672496260', 'send:3331077e8e9a7a87f370e541f7300606cad3aca162dfcff5c8c1b86fdd5d7b59', 'receive_random_field_element:971950018', 'send:555121922db5d9ada4c6c94523424ddaabdd66c69ed4e78bb612a1ab7f611576', 'receive_random_field_element:1742637391', 'send:bf82405070244cb1e966fcb839a832eb96eaf96403399c7a275c9fe4136e8a5d', 'receive_random_field_element:1579791430', 'send:49fcc9cb67e362bc6bc9dcb08c0b49dfc1a84410486ee620dabd5e456cca4474', 'receive_random_field_element:1321469251', 'send:c75677a905c8ee5180873f4c3816fee8b38f942adc87a3cd81c9a03cb750b9d7', 'receive_random_field_element:67889520', 'send:f9a8984e6bd6bb8ce556dba7f9aa1f4065374262cbfb20fc7613f652d1ad2487', 'receive_random_field_element:3151361445', 'send:45276bcc43c3b96181eb51db3f9a865506b709d554f015026b8483acd4b3f64c', 'receive_random_field_element:1954814821', 'send:ac052148f4a61c6febfa80d3d18e8c5e0bff975a6c7f2c5a38e874ffd9dd85ff', 'send:285156414']\n"
     ]
    }
   ],
   "source": [
    "fri_polys, fri_domains, fri_layers, fri_merkles = FriCommit(cp, eval_domain, cp_eval, cp_merkle, channel)\n",
    "print(channel.proof) "
   ]
  }
 ],
 "metadata": {
  "kernelspec": {
   "display_name": "Python 3 (ipykernel)",
   "language": "python",
   "name": "python3"
  },
  "language_info": {
   "codemirror_mode": {
    "name": "ipython",
    "version": 3
   },
   "file_extension": ".py",
   "mimetype": "text/x-python",
   "name": "python",
   "nbconvert_exporter": "python",
   "pygments_lexer": "ipython3",
   "version": "3.12.5"
  }
 },
 "nbformat": 4,
 "nbformat_minor": 4
}
